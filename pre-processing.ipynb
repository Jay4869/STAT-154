{
 "cells": [
  {
   "cell_type": "code",
   "execution_count": 3,
   "metadata": {
    "collapsed": true
   },
   "outputs": [],
   "source": [
    "import numpy as np"
   ]
  },
  {
   "cell_type": "code",
   "execution_count": 4,
   "metadata": {
    "collapsed": false
   },
   "outputs": [
    {
     "name": "stdout",
     "output_type": "stream",
     "text": [
      "E:\\GitHub\\machine_learning\\Training\\Child(0)\n"
     ]
    }
   ],
   "source": [
    "cd ./Training/Child(0)/"
   ]
  },
  {
   "cell_type": "code",
   "execution_count": 5,
   "metadata": {
    "collapsed": true
   },
   "outputs": [],
   "source": [
    "#function for loading txt file with fname and return data start 20th row\n",
    "def load(fname):\n",
    "    data = []\n",
    "    file = open(fname, 'r')\n",
    "    for i in file:\n",
    "        data.append(i.replace('\\n', '').replace('(', '').replace(')', '').lower().split(' '))\n",
    "    file.close()\n",
    "    \n",
    "    return data[20:]"
   ]
  },
  {
   "cell_type": "code",
   "execution_count": 8,
   "metadata": {
    "collapsed": false
   },
   "outputs": [
    {
     "name": "stdout",
     "output_type": "stream",
     "text": [
      "[['produced', 'by', 'ilana', 'm.', 'kingsley', 'newby', 'and', 'greg', 'newby'], ['the', 'legend', 'of', 'sleepy', 'hollow'], ['by', 'washington', 'irving'], ['found', 'among', 'the', 'papers', 'of', 'the', 'late', 'diedrich', 'knickerbocker.'], ['', '', '', '', '', '', '', '', 'a', 'pleasing', 'land', 'of', 'drowsy', 'head', 'it', 'was,'], ['', '', '', '', '', '', '', '', '', '', 'of', 'dreams', 'that', 'wave', 'before', 'the', 'half-shut', 'eye;'], ['', '', '', '', '', '', '', '', 'and', 'of', 'gay', 'castles', 'in', 'the', 'clouds', 'that', 'pass,'], ['', '', '', '', '', '', '', '', '', '', 'forever', 'flushing', 'round', 'a', 'summer', 'sky.'], ['', '', '', '', '', '', '', '', '', '', '', '', '', '', '', '', '', '', '', '', '', '', '', '', '', '', '', '', '', '', '', '', '', '', '', '', '', '', '', '', '', 'castle', 'of', 'indolence.'], ['in', 'the', 'bosom', 'of', 'one', 'of', 'those', 'spacious', 'coves', 'which', 'indent', 'the', 'eastern'], ['shore', 'of', 'the', 'hudson,', 'at', 'that', 'broad', 'expansion', 'of', 'the', 'river', 'denominated'], ['by', 'the', 'ancient', 'dutch', 'navigators', 'the', 'tappan', 'zee,', 'and', 'where', 'they', 'always'], ['prudently', 'shortened', 'sail', 'and', 'implored', 'the', 'protection', 'of', 'st.', 'nicholas'], ['when', 'they', 'crossed,', 'there', 'lies', 'a', 'small', 'market', 'town', 'or', 'rural', 'port,', 'which'], ['by', 'some', 'is', 'called', 'greensburgh,', 'but', 'which', 'is', 'more', 'generally', 'and', 'properly'], ['known', 'by', 'the', 'name', 'of', 'tarry', 'town.', 'this', 'name', 'was', 'given,', 'we', 'are', 'told,', 'in'], ['former', 'days,', 'by', 'the', 'good', 'housewives', 'of', 'the', 'adjacent', 'country,', 'from', 'the'], ['inveterate', 'propensity', 'of', 'their', 'husbands', 'to', 'linger', 'about', 'the', 'village'], ['tavern', 'on', 'market', 'days.', 'be', 'that', 'as', 'it', 'may,', 'i', 'do', 'not', 'vouch', 'for', 'the', 'fact,'], ['but', 'merely', 'advert', 'to', 'it,', 'for', 'the', 'sake', 'of', 'being', 'precise', 'and', 'authentic.'], ['not', 'far', 'from', 'this', 'village,', 'perhaps', 'about', 'two', 'miles,', 'there', 'is', 'a', 'little'], ['valley', 'or', 'rather', 'lap', 'of', 'land', 'among', 'high', 'hills,', 'which', 'is', 'one', 'of', 'the'], ['quietest', 'places', 'in', 'the', 'whole', 'world.', 'a', 'small', 'brook', 'glides', 'through', 'it,'], ['with', 'just', 'murmur', 'enough', 'to', 'lull', 'one', 'to', 'repose;', 'and', 'the', 'occasional'], ['whistle', 'of', 'a', 'quail', 'or', 'tapping', 'of', 'a', 'woodpecker', 'is', 'almost', 'the', 'only', 'sound'], ['that', 'ever', 'breaks', 'in', 'upon', 'the', 'uniform', 'tranquillity.'], ['i', 'recollect', 'that,', 'when', 'a', 'stripling,', 'my', 'first', 'exploit', 'in'], ['squirrel-shooting', 'was', 'in', 'a', 'grove', 'of', 'tall', 'walnut-trees', 'that', 'shades', 'one'], ['side', 'of', 'the', 'valley.', 'i', 'had', 'wandered', 'into', 'it', 'at', 'noontime,', 'when', 'all', 'nature'], ['is', 'peculiarly', 'quiet,', 'and', 'was', 'startled', 'by', 'the', 'roar', 'of', 'my', 'own', 'gun,', 'as', 'it'], ['broke', 'the', 'sabbath', 'stillness', 'around', 'and', 'was', 'prolonged', 'and', 'reverberated'], ['by', 'the', 'angry', 'echoes.', 'if', 'ever', 'i', 'should', 'wish', 'for', 'a', 'retreat', 'whither', 'i', 'might'], ['steal', 'from', 'the', 'world', 'and', 'its', 'distractions,', 'and', 'dream', 'quietly', 'away', 'the'], ['remnant', 'of', 'a', 'troubled', 'life,', 'i', 'know', 'of', 'none', 'more', 'promising', 'than', 'this'], ['little', 'valley.'], ['from', 'the', 'listless', 'repose', 'of', 'the', 'place,', 'and', 'the', 'peculiar', 'character', 'of', 'its'], ['inhabitants,', 'who', 'are', 'descendants', 'from', 'the', 'original', 'dutch', 'settlers,', 'this'], ['sequestered', 'glen', 'has', 'long', 'been', 'known', 'by', 'the', 'name', 'of', 'sleepy', 'hollow,', 'and'], ['its', 'rustic', 'lads', 'are', 'called', 'the', 'sleepy', 'hollow', 'boys', 'throughout', 'all', 'the'], ['neighboring', 'country.', 'a', 'drowsy,', 'dreamy', 'influence', 'seems', 'to', 'hang', 'over', 'the'], ['land,', 'and', 'to', 'pervade', 'the', 'very', 'atmosphere.', 'some', 'say', 'that', 'the', 'place'], ['was', 'bewitched', 'by', 'a', 'high', 'german', 'doctor,', 'during', 'the', 'early', 'days', 'of', 'the'], ['settlement;', 'others,', 'that', 'an', 'old', 'indian', 'chief,', 'the', 'prophet', 'or', 'wizard', 'of'], ['his', 'tribe,', 'held', 'his', 'powwows', 'there', 'before', 'the', 'country', 'was', 'discovered', 'by'], ['master', 'hendrick', 'hudson.', 'certain', 'it', 'is,', 'the', 'place', 'still', 'continues', 'under'], ['the', 'sway', 'of', 'some', 'witching', 'power,', 'that', 'holds', 'a', 'spell', 'over', 'the', 'minds', 'of'], ['the', 'good', 'people,', 'causing', 'them', 'to', 'walk', 'in', 'a', 'continual', 'reverie.', 'they', 'are'], ['given', 'to', 'all', 'kinds', 'of', 'marvellous', 'beliefs,', 'are', 'subject', 'to', 'trances', 'and'], ['visions,', 'and', 'frequently', 'see', 'strange', 'sights,', 'and', 'hear', 'music', 'and', 'voices', 'in'], ['the', 'air.', 'the', 'whole', 'neighborhood', 'abounds', 'with', 'local', 'tales,', 'haunted', 'spots,'], ['and', 'twilight', 'superstitions;', 'stars', 'shoot', 'and', 'meteors', 'glare', 'oftener', 'across'], ['the', 'valley', 'than', 'in', 'any', 'other', 'part', 'of', 'the', 'country,', 'and', 'the', 'nightmare,'], ['with', 'her', 'whole', 'ninefold,', 'seems', 'to', 'make', 'it', 'the', 'favorite', 'scene', 'of', 'her'], ['gambols.'], ['the', 'dominant', 'spirit,', 'however,', 'that', 'haunts', 'this', 'enchanted', 'region,', 'and'], ['seems', 'to', 'be', 'commander-in-chief', 'of', 'all', 'the', 'powers', 'of', 'the', 'air,', 'is', 'the'], ['apparition', 'of', 'a', 'figure', 'on', 'horseback,', 'without', 'a', 'head.', 'it', 'is', 'said', 'by', 'some'], ['to', 'be', 'the', 'ghost', 'of', 'a', 'hessian', 'trooper,', 'whose', 'head', 'had', 'been', 'carried', 'away'], ['by', 'a', 'cannon-ball,', 'in', 'some', 'nameless', 'battle', 'during', 'the', 'revolutionary', 'war,'], ['and', 'who', 'is', 'ever', 'and', 'anon', 'seen', 'by', 'the', 'country', 'folk', 'hurrying', 'along', 'in'], ['the', 'gloom', 'of', 'night,', 'as', 'if', 'on', 'the', 'wings', 'of', 'the', 'wind.', 'his', 'haunts', 'are', 'not'], ['confined', 'to', 'the', 'valley,', 'but', 'extend', 'at', 'times', 'to', 'the', 'adjacent', 'roads,', 'and'], ['especially', 'to', 'the', 'vicinity', 'of', 'a', 'church', 'at', 'no', 'great', 'distance.', 'indeed,'], ['certain', 'of', 'the', 'most', 'authentic', 'historians', 'of', 'those', 'parts,', 'who', 'have', 'been'], ['careful', 'in', 'collecting', 'and', 'collating', 'the', 'floating', 'facts', 'concerning', 'this'], ['spectre,', 'allege', 'that', 'the', 'body', 'of', 'the', 'trooper', 'having', 'been', 'buried', 'in', 'the'], ['churchyard,', 'the', 'ghost', 'rides', 'forth', 'to', 'the', 'scene', 'of', 'battle', 'in', 'nightly'], ['quest', 'of', 'his', 'head,', 'and', 'that', 'the', 'rushing', 'speed', 'with', 'which', 'he', 'sometimes'], ['passes', 'along', 'the', 'hollow,', 'like', 'a', 'midnight', 'blast,', 'is', 'owing', 'to', 'his', 'being'], ['belated,', 'and', 'in', 'a', 'hurry', 'to', 'get', 'back', 'to', 'the', 'churchyard', 'before', 'daybreak.'], ['such', 'is', 'the', 'general', 'purport', 'of', 'this', 'legendary', 'superstition,', 'which', 'has'], ['furnished', 'materials', 'for', 'many', 'a', 'wild', 'story', 'in', 'that', 'region', 'of', 'shadows;', 'and'], ['the', 'spectre', 'is', 'known', 'at', 'all', 'the', 'country', 'firesides,', 'by', 'the', 'name', 'of', 'the'], ['headless', 'horseman', 'of', 'sleepy', 'hollow.'], ['it', 'is', 'remarkable', 'that', 'the', 'visionary', 'propensity', 'i', 'have', 'mentioned', 'is', 'not'], ['confined', 'to', 'the', 'native', 'inhabitants', 'of', 'the', 'valley,', 'but', 'is', 'unconsciously'], ['imbibed', 'by', 'every', 'one', 'who', 'resides', 'there', 'for', 'a', 'time.', 'however', 'wide', 'awake'], ['they', 'may', 'have', 'been', 'before', 'they', 'entered', 'that', 'sleepy', 'region,', 'they', 'are'], ['sure,', 'in', 'a', 'little', 'time,', 'to', 'inhale', 'the', 'witching', 'influence', 'of', 'the', 'air,', 'and'], ['begin', 'to', 'grow', 'imaginative,', 'to', 'dream', 'dreams,', 'and', 'see', 'apparitions.'], ['i', 'mention', 'this', 'peaceful', 'spot', 'with', 'all', 'possible', 'laud,', 'for', 'it', 'is', 'in', 'such'], ['little', 'retired', 'dutch', 'valleys,', 'found', 'here', 'and', 'there', 'embosomed', 'in', 'the'], ['great', 'state', 'of', 'new', 'york,', 'that', 'population,', 'manners,', 'and', 'customs', 'remain'], ['fixed,', 'while', 'the', 'great', 'torrent', 'of', 'migration', 'and', 'improvement,', 'which', 'is'], ['making', 'such', 'incessant', 'changes', 'in', 'other', 'parts', 'of', 'this', 'restless', 'country,'], ['sweeps', 'by', 'them', 'unobserved.', 'they', 'are', 'like', 'those', 'little', 'nooks', 'of', 'still'], ['water,', 'which', 'border', 'a', 'rapid', 'stream,', 'where', 'we', 'may', 'see', 'the', 'straw', 'and'], ['bubble', 'riding', 'quietly', 'at', 'anchor,', 'or', 'slowly', 'revolving', 'in', 'their', 'mimic'], ['harbor,', 'undisturbed', 'by', 'the', 'rush', 'of', 'the', 'passing', 'current.', 'though', 'many'], ['years', 'have', 'elapsed', 'since', 'i', 'trod', 'the', 'drowsy', 'shades', 'of', 'sleepy', 'hollow,', 'yet'], ['i', 'question', 'whether', 'i', 'should', 'not', 'still', 'find', 'the', 'same', 'trees', 'and', 'the', 'same'], ['families', 'vegetating', 'in', 'its', 'sheltered', 'bosom.'], ['in', 'this', 'by-place', 'of', 'nature', 'there', 'abode,', 'in', 'a', 'remote', 'period', 'of', 'american'], ['history,', 'that', 'is', 'to', 'say,', 'some', 'thirty', 'years', 'since,', 'a', 'worthy', 'wight', 'of', 'the'], ['name', 'of', 'ichabod', 'crane,', 'who', 'sojourned,', 'or,', 'as', 'he', 'expressed', 'it,', '\"tarried,\"'], ['in', 'sleepy', 'hollow,', 'for', 'the', 'purpose', 'of', 'instructing', 'the', 'children', 'of', 'the'], ['vicinity.', 'he', 'was', 'a', 'native', 'of', 'connecticut,', 'a', 'state', 'which', 'supplies', 'the'], ['union', 'with', 'pioneers', 'for', 'the', 'mind', 'as', 'well', 'as', 'for', 'the', 'forest,', 'and', 'sends'], ['forth', 'yearly', 'its', 'legions', 'of', 'frontier', 'woodmen', 'and', 'country', 'schoolmasters.'], ['the', 'cognomen', 'of', 'crane', 'was', 'not', 'inapplicable', 'to', 'his', 'person.', 'he', 'was', 'tall,'], ['but', 'exceedingly', 'lank,', 'with', 'narrow', 'shoulders,', 'long', 'arms', 'and', 'legs,', 'hands'], ['that', 'dangled', 'a', 'mile', 'out', 'of', 'his', 'sleeves,', 'feet', 'that', 'might', 'have', 'served', 'for'], ['shovels,', 'and', 'his', 'whole', 'frame', 'most', 'loosely', 'hung', 'together.', 'his', 'head', 'was'], ['small,', 'and', 'flat', 'at', 'top,', 'with', 'huge', 'ears,', 'large', 'green', 'glassy', 'eyes,', 'and', 'a']]\n"
     ]
    }
   ],
   "source": [
    "#run the load the function and remove ['']\n",
    "data = load('041.txt')\n",
    "data = [x for x in data if x != ['']]\n",
    "print(data)"
   ]
  },
  {
   "cell_type": "code",
   "execution_count": 12,
   "metadata": {
    "collapsed": false
   },
   "outputs": [
    {
     "name": "stdout",
     "output_type": "stream",
     "text": [
      "['', 'changes', 'crane', 'resides', 'spacious', 'peculiarly', 'walnut-trees', 'high', 'wizard', 'served', 'to', 'hendrick', 'collecting', 'by', 'region', 'troubled', 'flat', 'large', 'lads', 'rapid', 'wings', 'glassy', 'witching', 'all', 'implored', 'has', 'peculiar', 'dreams', 'together.', 'connecticut,', 'have', 'see', 'retreat', 'time.', 'churchyard,', 'old', 'torrent', 'concerning', 'echoes.', 'imbibed', 'place,', 'air.', 'haunted', 'mile', 'imaginative,', 'supplies', 'nightly', 'owing', 'well', 'sheltered', 'given,', 'oftener', 'improvement,', 'state', 'sound', 'ever', 'along', 'gun,', 'summer', 'life,', 'little', 'sky.', 'world.', 'prolonged', 'original', 'remote', 'twilight', 'rushing', 'ghost', 'sleeves,', 'head', 'reverie.', 'some', 'current.', 'arms', 'wild', 'tales,', 'awake', 'given', 'or', 'it,', 'loosely', 'buried', 'fixed,', 'frontier', 'passes', 'rush', 'forever', 'st.', 'possible', 'town.', 'commander-in-chief', 'woodmen', 'visionary', 'laud,', 'perhaps', 'furnished', 'shoulders,', 'such', 'them', 'huge', 'time,', 'purpose', 'which', 'tranquillity.', 'hessian', 'expansion', 'about', 'sequestered', 'union', 'abounds', 'worthy', 'across', 'trod', 'inhabitants', 'meteors', 'local', 'two', 'sojourned,', 'are', 'always', 'was', 'do', 'world', 'figure', 'called', 'gambols.', 'begin', 'walk', 'incessant', 'diedrich', 'occasional', 'battle', 'm.', 'bosom.', 'repose;', 'dominant', 'broke', 'like', 'found', 'place', 'drowsy,', 'distance.', 'period', 'horseman', 'lap', 'that', 'wight', 'valley,', 'rides', 'story', 'generally', 'discovered', 'frame', 'sights,', 'only', 'roar', 'very', 'sail', 'shades', 'around', 'retired', 'should', 'dreamy', 'washington', 'whole', 'settlement;', 'where', 'during', 'war,', 'squirrel-shooting', 'tall,', 'remarkable', 'certain', 'instructing', 'especially', 'ears,', 'no', 'inhabitants,', 'my', 'hollow', 'wave', 'the', 'stripling,', 'parts', 'revolving', 'out', 'scene', 'superstition,', 'that,', 'gay', 'side', 'bosom', 'narrow', 'legend', 'his', 'woodpecker', 'grow', 'nightmare,', 'lank,', 'restless', 'own', 'if', 'startled', 'promising', 'neighborhood', 'a', 'carried', 'name', 'not', 'lull', 'beliefs,', 'mentioned', 'legions', 'reverberated', 'roads,', 'history,', 'quietly', 'an', 'far', 'get', 'careful', 'shortened', 'trooper,', 'legs,', 'who', 'tavern', 'people,', 'cognomen', 'known', 'when', 'favorite', 'crane,', 'shoot', 'know', 'riding', 'nooks', 'spots,', 'visions,', 'belated,', 'gloom', 'cannon-ball,', 'slowly', 'expressed', 'among', 'quietest', 'part', 'extend', 'at', 'sweeps', 'still', 'repose', 'forest,', 'continues', 'rustic', 'may', 'blast,', 'than', 'spot', 'spectre', 'valley.', 'irving', 'unconsciously', 'valleys,', 'region,', 'greensburgh,', 'papers', 'shovels,', 'produced', 'quest', 'days', 'drowsy', 'materials', 'firesides,', 'he', 'floating', 'any', 'causing', 'stars', 'half-shut', 'midnight', 'without', 'land', 'population,', 'but', 'town', 'indian', 'influence', 'passing', 'undisturbed', 'hurry', 'sure,', 'families', 'vegetating', 'good', 'manners,', 'we', 'dream', 'since,', 'powers', 'revolutionary', 'nameless', 'tall', 'head.', 'horseback,', 'nicholas', 'doctor,', 'inhale', 'however', 'unobserved.', 'under', 'trooper', 'in', 'ninefold,', 'her', 'enchanted', 'breaks', 'others,', 'wandered', 'mind', 'indolence.', 'yet', 'music', 'pass,', 'days.', 'wide', 'adjacent', 'remnant', 'frequently', 'most', 'head,', 'village,', 'almost', 'having', 'being', 'continual', 'pervade', 'country', 'is,', 'seen', 'many', 'since', 'entered', 'i', 'times', 'children', 'eastern', 'same', 'wish', 'held', 'ancient', 'greg', 'vicinity', 'inapplicable', 'stillness', 'hung', 'indeed,', 'one', 'facts', 'or,', 'fact,', 'miles,', 'migration', 'linger', 'anchor,', 'mention', 'hudson.', 'whistle', 'castles', 'night,', 'german', 'zee,', 'crossed,', 'church', 'person.', 'navigators', 'said', 'coves', 'spectre,', 'merely', 'enough', 'hollow.', 'historians', 'noontime,', 'remain', 'before', 'years', 'valley', 'find', 'denominated', 'border', 'might', 'neighboring', 'quail', 'settlers,', 'glare', 'pioneers', 'exceedingly', 'speed', 'propensity', 'first', 'every', 'country.', 'early', 'haunts', 'feet', 'harbor,', 'they', 'for', 'there', '\"tarried,\"', 'uniform', 'brook', 'as', 'by-place', 'murmur', 'tapping', 'kingsley', 'sway', 'over', 'body', 'while', 'into', 'vicinity.', 'making', 'away', 'village', 'allege', 'newby', 'prophet', 'back', 'powwows', 'upon', 'though', 'had', 'american', 'marvellous', 'ilana', 'inveterate', 'steal', 'straw', 'master', 'properly', 'general', 'quiet,', 'bubble', 'told,', 'their', 'abode,', 'yearly', 'holds', 'castle', 'spell', 'rural', 'hands', 'vouch', 'angry', 'native', 'embosomed', 'tappan', 'question', 'character', 'sometimes', 'authentic.', 'trances', 'kinds', 'dangled', 'sends', 'water,', 'top,', 'is', 'market', 'be', 'peaceful', 'housewives', 'clouds', 'pleasing', 'on', 'customs', 'precise', 'however,', 'prudently', 'power,', 'green', 'whither', 'atmosphere.', 'and', 'dreams,', 'throughout', 'here', 'spirit,', 'hollow,', 'collating', 'former', 'rather', 'schoolmasters.', 'distractions,', 'trees', 'sleepy', 'eyes,', 'none', 'advert', 'dutch', 'been', 'through', 'subject', 'whether', 'lies', 'say,', 'glides', 'glen', 'hang', 'grove', 'it', 'hudson,', 'knickerbocker.', 'ichabod', 'those', 'say', 'indent', 'descendants', 'of', 'authentic', 'york,', 'listless', 'late', 'legendary', 'protection', 'superstitions;', 'parts,', 'other', 'chief,', 'tribe,', 'seems', 'churchyard', 'eye;', 'anon', 'hear', 'daybreak.', 'thirty', 'tarry', 'long', 'purport', 'was,', 'sabbath', 'with', 'sake', 'boys', 'from', 'make', 'shore', 'wind.', 'minds', 'great', 'bewitched', 'air,', 'mimic', 'recollect', 'hurrying', 'country,', 'forth', 'new', 'small,', 'nature', 'flushing', 'hills,', 'days,', 'broad', 'more', 'headless', 'shadows;', 'river', 'strange', 'apparition', 'just', 'confined', 'its', 'places', 'elapsed', 'port,', 'stream,', 'voices', 'small', 'may,', 'whose', 'folk', 'this', 'husbands', 'land,', 'apparitions.', 'exploit', 'round']\n"
     ]
    }
   ],
   "source": [
    "# find the key words\n",
    "key = []\n",
    "for i in data:\n",
    "    for j in i:\n",
    "        key.append(j)\n",
    "\n",
    "print(list(set(key)))"
   ]
  },
  {
   "cell_type": "code",
   "execution_count": null,
   "metadata": {
    "collapsed": true
   },
   "outputs": [],
   "source": []
  }
 ],
 "metadata": {
  "kernelspec": {
   "display_name": "Python 3",
   "language": "python",
   "name": "python3"
  },
  "language_info": {
   "codemirror_mode": {
    "name": "ipython",
    "version": 3
   },
   "file_extension": ".py",
   "mimetype": "text/x-python",
   "name": "python",
   "nbconvert_exporter": "python",
   "pygments_lexer": "ipython3",
   "version": "3.4.3"
  }
 },
 "nbformat": 4,
 "nbformat_minor": 0
}
